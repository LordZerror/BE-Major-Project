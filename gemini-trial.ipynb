{
 "cells": [
  {
   "cell_type": "code",
   "execution_count": 2,
   "metadata": {},
   "outputs": [],
   "source": [
    "import pathlib\n",
    "import textwrap\n",
    "\n",
    "import google.generativeai as genai\n",
    "import os\n",
    "from IPython.display import display\n",
    "from IPython.display import Markdown\n",
    "\n",
    "\n",
    "def to_markdown(text):\n",
    "    text = text.replace('•', '  *')\n",
    "    return Markdown(textwrap.indent(text, '> ', predicate=lambda _: True))"
   ]
  },
  {
   "cell_type": "code",
   "execution_count": 18,
   "metadata": {},
   "outputs": [
    {
     "name": "stdout",
     "output_type": "stream",
     "text": [
      "Collecting python-dotenv\n",
      "  Downloading python_dotenv-1.0.1-py3-none-any.whl.metadata (23 kB)\n",
      "Downloading python_dotenv-1.0.1-py3-none-any.whl (19 kB)\n",
      "Installing collected packages: python-dotenv\n",
      "Successfully installed python-dotenv-1.0.1\n"
     ]
    },
    {
     "data": {
      "text/plain": [
       "True"
      ]
     },
     "execution_count": 18,
     "metadata": {},
     "output_type": "execute_result"
    }
   ],
   "source": [
    "# Load environment variables from .env file if present\n",
    "! pip install python-dotenv\n",
    "from dotenv import load_dotenv\n",
    "load_dotenv()"
   ]
  },
  {
   "cell_type": "code",
   "execution_count": 19,
   "metadata": {},
   "outputs": [],
   "source": [
    "GOOGLE_API_KEY=os.getenv('GOOGLE_API_KEY')\n",
    "\n",
    "genai.configure(api_key=GOOGLE_API_KEY)"
   ]
  },
  {
   "cell_type": "code",
   "execution_count": 20,
   "metadata": {},
   "outputs": [
    {
     "name": "stdout",
     "output_type": "stream",
     "text": [
      "models/gemini-pro\n",
      "models/gemini-pro-vision\n"
     ]
    }
   ],
   "source": [
    "for m in genai.list_models():\n",
    "    if 'generateContent' in m.supported_generation_methods:\n",
    "        print(m.name)"
   ]
  },
  {
   "cell_type": "code",
   "execution_count": 7,
   "metadata": {},
   "outputs": [],
   "source": [
    "model = genai.GenerativeModel('gemini-pro')"
   ]
  },
  {
   "cell_type": "code",
   "execution_count": 8,
   "metadata": {},
   "outputs": [
    {
     "name": "stdout",
     "output_type": "stream",
     "text": [
      "CPU times: user 11.9 ms, sys: 24 ms, total: 35.9 ms\n",
      "Wall time: 17.3 s\n"
     ]
    }
   ],
   "source": [
    "%%time\n",
    "response = model.generate_content(\"Does anything matter in life?\")"
   ]
  },
  {
   "cell_type": "code",
   "execution_count": 10,
   "metadata": {},
   "outputs": [
    {
     "data": {
      "text/markdown": [
       "> Whether or not anything matters in life is a philosophical question that has been debated for centuries. There are many different perspectives on this issue, and no single answer is universally accepted. Some people believe that nothing truly matters, while others believe that certain things, such as love, relationships, or personal fulfillment, are of great importance. Ultimately, the question of whether or not anything matters is a personal one that each individual must answer for themselves.\n",
       "> \n",
       "> **Arguments that nothing matters:**\n",
       "> \n",
       "> * **The universe is vast and indifferent.** Humans are just a tiny part of an immense universe, and our lives are ultimately insignificant in the grand scheme of things.\n",
       "> * **Time is finite.** Everyone dies eventually, so all of our accomplishments and experiences will eventually be forgotten.\n",
       "> * **Suffering is inevitable.** Life is full of pain and suffering, both physical and emotional. There is no way to escape it.\n",
       "> * **There is no inherent meaning to life.** We are not born with a purpose, and there is no objective standard by which to judge our actions.\n",
       "> \n",
       "> **Arguments that something matters:**\n",
       "> \n",
       "> * **We are conscious beings.** We are aware of our own existence and have the ability to experience emotions and sensations. This makes our lives intrinsically valuable.\n",
       "> * **We have relationships with others.** Our relationships with loved ones are a source of great meaning and purpose. They give us a sense of belonging and connection.\n",
       "> * **We can make a difference in the world.** We can use our time and talents to help others and make the world a better place. This can give our lives a sense of purpose and fulfillment.\n",
       "> * **We can create meaning for ourselves.** We can find meaning in our lives by setting goals, pursuing our passions, and living in accordance with our values.\n",
       "> \n",
       "> Ultimately, the question of whether or not anything matters is a personal one. There is no right or wrong answer. The best way to find an answer that is meaningful to you is to reflect on your own values and beliefs. What do you consider to be important? What do you want to accomplish with your life? Once you have a better understanding of your own values, you can start to make choices that are aligned with them. This can help you to live a life that is filled with meaning and purpose.\n",
       "> \n",
       "> Here are some additional things to consider when thinking about whether or not anything matters:\n",
       "> \n",
       "> * **The meaning of life is subjective.** There is no one-size-fits-all answer to the question of what matters. What is important to one person may not be important to another.\n",
       "> * **Meaning can change over time.** The things that matter to us can change as we grow and change. What was important to us when we were young may not be important to us later in life.\n",
       "> * **It is possible to find meaning in even the most difficult circumstances.** Even in the face of suffering and adversity, it is possible to find meaning and purpose. This can be done by focusing on the things that are still good in our lives, by helping others, or by simply living each day to the fullest.\n",
       "> \n",
       "> In conclusion, the question of whether or not anything matters is a complex one with no easy answers. There are many different perspectives on this issue, and the best way to find an answer that is meaningful to you is to reflect on your own values and beliefs. Once you have a better understanding of yourself, you can start to make choices that are aligned with your values and live a life that is filled with meaning and purpose."
      ],
      "text/plain": [
       "<IPython.core.display.Markdown object>"
      ]
     },
     "execution_count": 10,
     "metadata": {},
     "output_type": "execute_result"
    }
   ],
   "source": [
    "to_markdown(response.text)"
   ]
  },
  {
   "cell_type": "code",
   "execution_count": 11,
   "metadata": {},
   "outputs": [
    {
     "data": {
      "text/plain": [
       "safety_ratings {\n",
       "  category: HARM_CATEGORY_SEXUALLY_EXPLICIT\n",
       "  probability: NEGLIGIBLE\n",
       "}\n",
       "safety_ratings {\n",
       "  category: HARM_CATEGORY_HATE_SPEECH\n",
       "  probability: NEGLIGIBLE\n",
       "}\n",
       "safety_ratings {\n",
       "  category: HARM_CATEGORY_HARASSMENT\n",
       "  probability: NEGLIGIBLE\n",
       "}\n",
       "safety_ratings {\n",
       "  category: HARM_CATEGORY_DANGEROUS_CONTENT\n",
       "  probability: NEGLIGIBLE\n",
       "}"
      ]
     },
     "execution_count": 11,
     "metadata": {},
     "output_type": "execute_result"
    }
   ],
   "source": [
    "response.prompt_feedback"
   ]
  },
  {
   "cell_type": "code",
   "execution_count": 13,
   "metadata": {},
   "outputs": [
    {
     "data": {
      "text/plain": [
       "[index: 0\n",
       "content {\n",
       "  parts {\n",
       "    text: \"Whether or not anything matters in life is a philosophical question that has been debated for centuries. There are many different perspectives on this issue, and no single answer is universally accepted. Some people believe that nothing truly matters, while others believe that certain things, such as love, relationships, or personal fulfillment, are of great importance. Ultimately, the question of whether or not anything matters is a personal one that each individual must answer for themselves.\\n\\n**Arguments that nothing matters:**\\n\\n* **The universe is vast and indifferent.** Humans are just a tiny part of an immense universe, and our lives are ultimately insignificant in the grand scheme of things.\\n* **Time is finite.** Everyone dies eventually, so all of our accomplishments and experiences will eventually be forgotten.\\n* **Suffering is inevitable.** Life is full of pain and suffering, both physical and emotional. There is no way to escape it.\\n* **There is no inherent meaning to life.** We are not born with a purpose, and there is no objective standard by which to judge our actions.\\n\\n**Arguments that something matters:**\\n\\n* **We are conscious beings.** We are aware of our own existence and have the ability to experience emotions and sensations. This makes our lives intrinsically valuable.\\n* **We have relationships with others.** Our relationships with loved ones are a source of great meaning and purpose. They give us a sense of belonging and connection.\\n* **We can make a difference in the world.** We can use our time and talents to help others and make the world a better place. This can give our lives a sense of purpose and fulfillment.\\n* **We can create meaning for ourselves.** We can find meaning in our lives by setting goals, pursuing our passions, and living in accordance with our values.\\n\\nUltimately, the question of whether or not anything matters is a personal one. There is no right or wrong answer. The best way to find an answer that is meaningful to you is to reflect on your own values and beliefs. What do you consider to be important? What do you want to accomplish with your life? Once you have a better understanding of your own values, you can start to make choices that are aligned with them. This can help you to live a life that is filled with meaning and purpose.\\n\\nHere are some additional things to consider when thinking about whether or not anything matters:\\n\\n* **The meaning of life is subjective.** There is no one-size-fits-all answer to the question of what matters. What is important to one person may not be important to another.\\n* **Meaning can change over time.** The things that matter to us can change as we grow and change. What was important to us when we were young may not be important to us later in life.\\n* **It is possible to find meaning in even the most difficult circumstances.** Even in the face of suffering and adversity, it is possible to find meaning and purpose. This can be done by focusing on the things that are still good in our lives, by helping others, or by simply living each day to the fullest.\\n\\nIn conclusion, the question of whether or not anything matters is a complex one with no easy answers. There are many different perspectives on this issue, and the best way to find an answer that is meaningful to you is to reflect on your own values and beliefs. Once you have a better understanding of yourself, you can start to make choices that are aligned with your values and live a life that is filled with meaning and purpose.\"\n",
       "  }\n",
       "  role: \"model\"\n",
       "}\n",
       "finish_reason: STOP\n",
       "safety_ratings {\n",
       "  category: HARM_CATEGORY_SEXUALLY_EXPLICIT\n",
       "  probability: NEGLIGIBLE\n",
       "}\n",
       "safety_ratings {\n",
       "  category: HARM_CATEGORY_HATE_SPEECH\n",
       "  probability: NEGLIGIBLE\n",
       "}\n",
       "safety_ratings {\n",
       "  category: HARM_CATEGORY_HARASSMENT\n",
       "  probability: NEGLIGIBLE\n",
       "}\n",
       "safety_ratings {\n",
       "  category: HARM_CATEGORY_DANGEROUS_CONTENT\n",
       "  probability: NEGLIGIBLE\n",
       "}\n",
       "]"
      ]
     },
     "execution_count": 13,
     "metadata": {},
     "output_type": "execute_result"
    }
   ],
   "source": [
    "response.candidates"
   ]
  },
  {
   "cell_type": "markdown",
   "metadata": {},
   "source": [
    "----"
   ]
  },
  {
   "cell_type": "code",
   "execution_count": 21,
   "metadata": {},
   "outputs": [
    {
     "name": "stdout",
     "output_type": "stream",
     "text": [
      "CPU times: user 8.55 ms, sys: 29.1 ms, total: 37.6 ms\n",
      "Wall time: 4.23 s\n"
     ]
    }
   ],
   "source": [
    "%%time\n",
    "response = model.generate_content(\"What is the meaning of life?\", stream=True)"
   ]
  },
  {
   "cell_type": "code",
   "execution_count": 25,
   "metadata": {},
   "outputs": [
    {
     "data": {
      "text/markdown": [
       "> The meaning of life is a deep philosophical question that has been pondered by humans for centuries. Various schools of thought have different perspectives on this question. Here are some common interpretations:\n",
       "> \n",
       "> 1. **Personal Meaning**:\n",
       ">    - The meaning of life is unique to each individual and is derived from their personal values, experiences, and relationships. It can be found in pursuing meaningful goals, cultivating meaningful relationships, contributing to society, and finding fulfillment in one's endeavors.\n",
       "> \n",
       "> \n",
       "> 2. **Search for Knowledge**:\n",
       ">    - Some people believe that the meaning of life lies in the pursuit of knowledge and understanding. This can include learning about the natural world, human history, art, culture, and philosophy. The search for knowledge helps us make sense of our existence and the world around us.\n",
       "> \n",
       "> \n",
       "> 3. **Moral or Ethical Life**:\n",
       ">    - For some, the meaning of life is found in living a moral or ethical life. This can involve following religious or philosophical principles, striving for justice, fairness, and compassion, and making ethical choices in our daily interactions.\n",
       "> \n",
       "> \n",
       "> 4. **Legacy**:\n",
       ">    - Many people find meaning in leaving a positive and lasting impact on the world. This can be achieved through creative endeavors, contributions to society, or passing on knowledge and values to future generations.\n",
       "> \n",
       "> \n",
       "> 5. **Connection to the Universe**:\n",
       ">    - Some believe that the meaning of life resides in connecting with the larger universe or a higher power. This can involve spiritual practices, meditation, or a sense of oneness with the cosmos.\n",
       "> \n",
       "> \n",
       "> 6. **Simplicity and Presence**:\n",
       ">    - For some, the meaning of life is found in living a simple and present life. This may involve embracing mindfulness, cherishing the present moment, and appreciating the beauty and wonder of the natural world.\n",
       "> \n",
       "> \n",
       "> 7. **Fulfillment and Happiness**:\n",
       ">    - Some people believe that the meaning of life is to achieve personal fulfillment and happiness. This can involve pursuing activities and relationships that bring joy, satisfaction, and contentment.\n",
       "> \n",
       "> \n",
       "> 8. **Meaninglessness**:\n",
       ">    - Existentialists and some philosophical schools of thought propose that life inherently lacks objective meaning. They suggest that humans create and derive meaning from their own experiences and interactions with the world.\n",
       "> \n",
       "> \n",
       "> 9. **Purpose and Goal-Directedness**:\n",
       ">    - Some believe that the meaning of life lies in finding a higher purpose or goal that drives our actions and aspirations. This purpose can be related to making a difference in the world, achieving a personal mission, or fulfilling a spiritual calling.\n",
       "> \n",
       "> \n",
       "> 10. **On-going Exploration**:\n",
       ">     - Others suggest that the meaning of life is not a fixed endpoint but rather an ongoing journey of exploration, self-discovery, and growth. Life's meaning is found in the process of living, learning, and continuously evolving as a person.\n",
       "> \n",
       "> Ultimately, the meaning of life is a personal and subjective question. What brings meaning to one person may not be meaningful to another. The exploration of this question can be a lifelong pursuit of self-reflection, introspection, and dialogue with others."
      ],
      "text/plain": [
       "<IPython.core.display.Markdown object>"
      ]
     },
     "execution_count": 25,
     "metadata": {},
     "output_type": "execute_result"
    }
   ],
   "source": [
    "to_markdown(response.text)"
   ]
  },
  {
   "cell_type": "markdown",
   "metadata": {},
   "source": [
    "### Survey of Question Generation Models Research Paper "
   ]
  },
  {
   "cell_type": "markdown",
   "metadata": {},
   "source": [
    "1. Grammar-based question generation\n",
    "\n",
    "2. keyword based question generation\n",
    "\n",
    "3. Fine-tuning \n",
    "   - create dataset using this gemini \n",
    "   - Fine-tuning on QG model \n",
    "\n",
    "4. Direct-use \n",
    "   - Prompting "
   ]
  }
 ],
 "metadata": {
  "kernelspec": {
   "display_name": "venv",
   "language": "python",
   "name": "python3"
  },
  "language_info": {
   "codemirror_mode": {
    "name": "ipython",
    "version": 3
   },
   "file_extension": ".py",
   "mimetype": "text/x-python",
   "name": "python",
   "nbconvert_exporter": "python",
   "pygments_lexer": "ipython3",
   "version": "3.10.9"
  }
 },
 "nbformat": 4,
 "nbformat_minor": 2
}
