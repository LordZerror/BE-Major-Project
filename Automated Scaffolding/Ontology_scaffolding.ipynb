{
  "nbformat": 4,
  "nbformat_minor": 0,
  "metadata": {
    "colab": {
      "provenance": []
    },
    "kernelspec": {
      "name": "python3",
      "display_name": "Python 3"
    },
    "language_info": {
      "name": "python"
    }
  },
  "cells": [
    {
      "cell_type": "code",
      "execution_count": null,
      "metadata": {
        "colab": {
          "base_uri": "https://localhost:8080/"
        },
        "id": "zjzgWBEuaNL8",
        "outputId": "a5cabd3d-dab6-476b-b680-9c493e483f84"
      },
      "outputs": [
        {
          "output_type": "stream",
          "name": "stdout",
          "text": [
            "Collecting rdflib\n",
            "  Downloading rdflib-7.0.0-py3-none-any.whl (531 kB)\n",
            "\u001b[2K     \u001b[90m━━━━━━━━━━━━━━━━━━━━━━━━━━━━━━━━━━━━━━━━\u001b[0m \u001b[32m531.9/531.9 kB\u001b[0m \u001b[31m6.1 MB/s\u001b[0m eta \u001b[36m0:00:00\u001b[0m\n",
            "\u001b[?25hCollecting isodate<0.7.0,>=0.6.0 (from rdflib)\n",
            "  Downloading isodate-0.6.1-py2.py3-none-any.whl (41 kB)\n",
            "\u001b[2K     \u001b[90m━━━━━━━━━━━━━━━━━━━━━━━━━━━━━━━━━━━━━━━━\u001b[0m \u001b[32m41.7/41.7 kB\u001b[0m \u001b[31m4.1 MB/s\u001b[0m eta \u001b[36m0:00:00\u001b[0m\n",
            "\u001b[?25hRequirement already satisfied: pyparsing<4,>=2.1.0 in /usr/local/lib/python3.10/dist-packages (from rdflib) (3.1.2)\n",
            "Requirement already satisfied: six in /usr/local/lib/python3.10/dist-packages (from isodate<0.7.0,>=0.6.0->rdflib) (1.16.0)\n",
            "Installing collected packages: isodate, rdflib\n",
            "Successfully installed isodate-0.6.1 rdflib-7.0.0\n"
          ]
        }
      ],
      "source": [
        "!pip install rdflib"
      ]
    },
    {
      "cell_type": "code",
      "source": [
        "from rdflib import Graph\n",
        "\n",
        "file_path = \"/content/CSO.3.3.ttl\"\n",
        "graph = Graph()\n",
        "graph.parse(file_path, format=\"ttl\")\n",
        "\n",
        "def get_superclass(concept):\n",
        "    query = f\"\"\"\n",
        "      PREFIX ns0: <http://cso.kmi.open.ac.uk/schema/cso#>\n",
        "      PREFIX ns3: <http://schema.org/>\n",
        "      SELECT ?subclass ?wikipediaLink\n",
        "      WHERE {{\n",
        "          ?subclass ns0:superTopicOf <https://cso.kmi.open.ac.uk/topics/{concept}> .\n",
        "          ?subclass ns3:relatedLink ?wikipediaLink .\n",
        "          FILTER(STRSTARTS(STR(?wikipediaLink), \"http://en.wikipedia.org/\"))\n",
        "      }}\n",
        "      \"\"\"\n",
        "\n",
        "    results = graph.query(query)\n",
        "    superclass_info = next(iter(results), None)\n",
        "    return superclass_info\n",
        "\n",
        "def get_wikipedia_link(concept):\n",
        "    query = f\"\"\"\n",
        "      PREFIX ns0: <http://cso.kmi.open.ac.uk/schema/cso#>\n",
        "      PREFIX ns3: <http://schema.org/>\n",
        "      SELECT ?wikipediaLink\n",
        "      WHERE {{\n",
        "          <https://cso.kmi.open.ac.uk/topics/{concept}> ns3:relatedLink ?wikipediaLink .\n",
        "          FILTER(STRSTARTS(STR(?wikipediaLink), \"http://en.wikipedia.org/\"))\n",
        "      }}\n",
        "      \"\"\"\n",
        "\n",
        "    results = graph.query(query)\n",
        "    wikipedia_links = [link[0] for link in results]\n",
        "    return wikipedia_links\n",
        "\n",
        "def concept_exists(concept):\n",
        "    query = f\"\"\"\n",
        "        PREFIX ns0: <http://cso.kmi.open.ac.uk/schema/cso#>\n",
        "        ASK\n",
        "        WHERE {{\n",
        "            <https://cso.kmi.open.ac.uk/topics/{concept}> ?predicate ?object .\n",
        "        }}\n",
        "    \"\"\"\n",
        "    results = graph.query(query)\n",
        "    return bool(results)\n",
        "\n",
        "def extract_concept_name(uri):\n",
        "    return uri.split(\"/\")[-1]\n",
        "\n",
        "concept = input(\"Enter the concept: \")\n",
        "integer_value = int(input(\"Enter the student ability value: \"))\n",
        "\n",
        "if integer_value > 75:\n",
        "    if concept_exists(concept):\n",
        "        word_concept = concept\n",
        "        wikipedia_links = get_wikipedia_link(word_concept)\n",
        "    else:\n",
        "        print(\"Concept not found in RDF data.\")\n",
        "        exit()\n",
        "elif 50 <= integer_value <= 75:\n",
        "    superclass_info = get_superclass(concept)\n",
        "    if superclass_info:\n",
        "        word_concept, wikipedia_link = superclass_info\n",
        "    else:\n",
        "        print(\"Superclass not found.\")\n",
        "        exit()\n",
        "else:\n",
        "    superclass_info = get_superclass(concept)\n",
        "    if superclass_info:\n",
        "        word_concept_uri, wikipedia_link = superclass_info\n",
        "        if not word_concept_uri:\n",
        "            print(\"Superclass of the retrieved superclass not found.\")\n",
        "            exit()\n",
        "        word_concept = extract_concept_name(word_concept_uri)\n",
        "        superclass_info = get_superclass(word_concept)\n",
        "        if superclass_info:\n",
        "            superclass_uri, wikipedia_link = superclass_info\n",
        "            if not superclass_uri:\n",
        "                print(\"Superclass of the superclass not found.\")\n",
        "                exit()\n",
        "            word_concept = extract_concept_name(superclass_uri)\n",
        "            wikipedia_links = get_wikipedia_link(word_concept)\n",
        "        else:\n",
        "            print(\"Superclass of the superclass not found.\")\n",
        "            exit()\n",
        "    else:\n",
        "        print(\"Superclass not found.\")\n",
        "        exit()\n",
        "\n",
        "# Print the result\n",
        "print(\"Resulting concept:\", word_concept)\n",
        "if 50 <= integer_value <= 75:\n",
        "    if wikipedia_link:\n",
        "        print(\"Wikipedia link for the superclass:\", wikipedia_link)\n",
        "    else:\n",
        "        print(\"No Wikipedia link found for the superclass.\")\n",
        "else:\n",
        "    if wikipedia_links:\n",
        "        print(\"Wikipedia links for the concept:\", wikipedia_links)\n",
        "    else:\n",
        "        print(\"No Wikipedia links found for the concept.\")\n"
      ],
      "metadata": {
        "colab": {
          "base_uri": "https://localhost:8080/"
        },
        "id": "vohSOJZTTP6z",
        "outputId": "d1fa8e80-47b7-4f57-b0cd-8569731bc56d"
      },
      "execution_count": null,
      "outputs": [
        {
          "output_type": "stream",
          "name": "stdout",
          "text": [
            "Enter the concept: distributed_file_system\n",
            "Enter the student ability value: 45\n",
            "Resulting concept: operating_system\n",
            "Wikipedia links for the concept: [rdflib.term.URIRef('http://en.wikipedia.org/wiki/Operating_system')]\n"
          ]
        }
      ]
    },
    {
      "cell_type": "code",
      "source": [
        "!pip install transformers"
      ],
      "metadata": {
        "id": "UE_jlnSRUliC",
        "colab": {
          "base_uri": "https://localhost:8080/"
        },
        "outputId": "0a308a7b-64e9-403f-cd92-a579139f380c"
      },
      "execution_count": null,
      "outputs": [
        {
          "output_type": "stream",
          "name": "stdout",
          "text": [
            "Requirement already satisfied: transformers in /usr/local/lib/python3.10/dist-packages (4.38.2)\n",
            "Requirement already satisfied: filelock in /usr/local/lib/python3.10/dist-packages (from transformers) (3.13.3)\n",
            "Requirement already satisfied: huggingface-hub<1.0,>=0.19.3 in /usr/local/lib/python3.10/dist-packages (from transformers) (0.20.3)\n",
            "Requirement already satisfied: numpy>=1.17 in /usr/local/lib/python3.10/dist-packages (from transformers) (1.25.2)\n",
            "Requirement already satisfied: packaging>=20.0 in /usr/local/lib/python3.10/dist-packages (from transformers) (24.0)\n",
            "Requirement already satisfied: pyyaml>=5.1 in /usr/local/lib/python3.10/dist-packages (from transformers) (6.0.1)\n",
            "Requirement already satisfied: regex!=2019.12.17 in /usr/local/lib/python3.10/dist-packages (from transformers) (2023.12.25)\n",
            "Requirement already satisfied: requests in /usr/local/lib/python3.10/dist-packages (from transformers) (2.31.0)\n",
            "Requirement already satisfied: tokenizers<0.19,>=0.14 in /usr/local/lib/python3.10/dist-packages (from transformers) (0.15.2)\n",
            "Requirement already satisfied: safetensors>=0.4.1 in /usr/local/lib/python3.10/dist-packages (from transformers) (0.4.2)\n",
            "Requirement already satisfied: tqdm>=4.27 in /usr/local/lib/python3.10/dist-packages (from transformers) (4.66.2)\n",
            "Requirement already satisfied: fsspec>=2023.5.0 in /usr/local/lib/python3.10/dist-packages (from huggingface-hub<1.0,>=0.19.3->transformers) (2023.6.0)\n",
            "Requirement already satisfied: typing-extensions>=3.7.4.3 in /usr/local/lib/python3.10/dist-packages (from huggingface-hub<1.0,>=0.19.3->transformers) (4.10.0)\n",
            "Requirement already satisfied: charset-normalizer<4,>=2 in /usr/local/lib/python3.10/dist-packages (from requests->transformers) (3.3.2)\n",
            "Requirement already satisfied: idna<4,>=2.5 in /usr/local/lib/python3.10/dist-packages (from requests->transformers) (3.6)\n",
            "Requirement already satisfied: urllib3<3,>=1.21.1 in /usr/local/lib/python3.10/dist-packages (from requests->transformers) (2.0.7)\n",
            "Requirement already satisfied: certifi>=2017.4.17 in /usr/local/lib/python3.10/dist-packages (from requests->transformers) (2024.2.2)\n"
          ]
        }
      ]
    },
    {
      "cell_type": "code",
      "source": [
        "from transformers import BartTokenizer, BartForConditionalGeneration\n",
        "import requests\n",
        "\n",
        "tokenizer = BartTokenizer.from_pretrained('facebook/bart-large-cnn')\n",
        "model = BartForConditionalGeneration.from_pretrained('facebook/bart-large-cnn')\n",
        "\n",
        "def summarize_wikipedia_content(wikipedia_link):\n",
        "    # Define the URL for the MediaWiki API\n",
        "    url = \"https://en.wikipedia.org/w/api.php\"\n",
        "\n",
        "    # Define parameters for the API request\n",
        "    params = {\n",
        "        \"action\": \"query\",\n",
        "        \"format\": \"json\",\n",
        "        \"prop\": \"extracts\",\n",
        "        \"titles\": wikipedia_link.split(\"/\")[-1],  # Extract the page title from the URL\n",
        "        \"exintro\": True,  # Get only the introductory section\n",
        "        \"explaintext\": True,  # Get plaintext instead of HTML\n",
        "    }\n",
        "\n",
        "    response = requests.get(url, params=params)\n",
        "\n",
        "    data = response.json()\n",
        "\n",
        "    page_id = list(data[\"query\"][\"pages\"].keys())[0]  # Extract the page ID dynamically\n",
        "    page_content = data[\"query\"][\"pages\"][page_id][\"extract\"]\n",
        "\n",
        "    inputs = tokenizer([page_content], max_length=1024, return_tensors='pt', truncation=True)\n",
        "    summary_ids = model.generate(inputs['input_ids'], num_beams=4, min_length=30, max_length=200, early_stopping=True)\n",
        "\n",
        "    summary = tokenizer.decode(summary_ids[0], skip_special_tokens=True)\n",
        "    return summary\n",
        "\n",
        "wikipedia_links='https://en.wikipedia.org/wiki/Operating_system'\n",
        "\n",
        "summary = summarize_wikipedia_content(wikipedia_links)\n",
        "print(summary)\n"
      ],
      "metadata": {
        "colab": {
          "base_uri": "https://localhost:8080/"
        },
        "id": "V_Yb6QJbUjuj",
        "outputId": "060de272-66dc-4afc-a942-f380799421d4"
      },
      "execution_count": null,
      "outputs": [
        {
          "output_type": "stream",
          "name": "stdout",
          "text": [
            "An operating system (OS) is system software that manages computer hardware and software resources, and provides common services for computer programs. Operating systems are found on many devices that contain a computer – from cellular phones and video game consoles to web servers and supercomputers.\n"
          ]
        }
      ]
    }
  ]
}