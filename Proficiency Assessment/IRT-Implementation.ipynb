{
 "cells": [
  {
   "cell_type": "code",
   "execution_count": null,
   "metadata": {},
   "outputs": [],
   "source": [
    "import numpy as np\n",
    "import random"
   ]
  },
  {
   "cell_type": "code",
   "execution_count": 35,
   "metadata": {},
   "outputs": [],
   "source": [
    "# Example usage\n",
    "questions = [\n",
    "    \"Explain the difference between a monolithic kernel and a microkernel. [0.7]\", #1\n",
    "    \"Explain the difference between a process and a thread [0.5].\", #2\n",
    "    \"How does virtual memory work in modern operating systems? [0.3]\", #3\n",
    "    \"Describe the role of the kernel in an operating system. [0.4] \", #4\n",
    "    \"What are the various types of scheduling algorithms used in operating systems, and how do they differ? [1.5]\", #5\n",
    "    \"How does a deadlock occur in an operating system, and what are some techniques to prevent it [1.2]?\", #6\n",
    "    \"What is the purpose of an operating system [0.2]?\", #7\n",
    "    \"What is the purpose of device drivers in an operating system? [0.6]\", #8\n",
    "    \"Describe the boot process of a typical operating system. [0.5]\", #9\n",
    "    \"How does an operating system manage file systems and disk storage? [1.0]\", #10\n",
    "    \"What are the different types of file systems commonly used in operating systems, and how do they differ? [1.3]\", #11\n",
    "    \"Explain the concept of process synchronization and why it's important in operating systems. [0.8]\", #12\n",
    "    \"Discuss the role of interrupt handling in an operating system. [0.8]\", #13\n",
    "    \"What is the difference between multiprogramming, multiprocessing, and multitasking? [1.8]\", #14\n",
    "    \"How does an operating system handle memory management, including techniques like paging and segmentation? [0.9]\" #15\n",
    "]"
   ]
  },
  {
   "cell_type": "code",
   "execution_count": 36,
   "metadata": {},
   "outputs": [],
   "source": [
    "def calculate_item_parameters():\n",
    "    item_params = np.array([\n",
    "        [0.8, 1], [0.5, 1], [0.3, 1], [0.4, 1], [1.5, 1],\n",
    "        [1.2, 1], [0.2, 1], [0.6, 1], [0.5, 1], [1.0, 1],\n",
    "        [1.3, 1], [0.8, 1], [0.8, 1], [1.8, 1], [0.8, 1]\n",
    "    ])\n",
    "    return item_params"
   ]
  },
  {
   "cell_type": "code",
   "execution_count": 54,
   "metadata": {},
   "outputs": [],
   "source": [
    "def create_adaptive_algorithm(item_bank):\n",
    "    ability_level = [0]\n",
    "    responses = []\n",
    "    used_indices = []\n",
    "\n",
    "    def select_question():\n",
    "        # Only used for the first question\n",
    "        if not responses:\n",
    "            starting_idx = random.randint(0, len(item_bank) - 1)\n",
    "            used_indices.append(starting_idx)\n",
    "            return item_bank[starting_idx], starting_idx\n",
    "\n",
    "        item_params = calculate_item_parameters()\n",
    "        adjusted_difficulty = ability_level[-1] - item_params[:, 0]\n",
    "        item_probabilities = 1 / (1 + np.exp(-item_params[:, 1] * adjusted_difficulty))\n",
    "\n",
    "        # Filter out used indices\n",
    "        remaining_indices = [i for i in range(len(item_bank)) if i not in used_indices]\n",
    "\n",
    "        if responses[-1] == \"correct\":\n",
    "            # Filter out indices with item probability less than or equal to the previous item's probability\n",
    "            remaining_indices = [i for i in remaining_indices if item_probabilities[i] <= item_probabilities[used_indices[-1]]]\n",
    "            print(remaining_indices)\n",
    "            if remaining_indices:\n",
    "                next_question_index = max(remaining_indices, key=lambda x: item_probabilities[x])\n",
    "            else:\n",
    "                new_ls = [i for i in range(len(item_probabilities)) if item_probabilities[i] < item_probabilities[used_indices[-1]]]\n",
    "                if len(new_ls) != 0:\n",
    "                    next_question_index = max(new_ls, key=lambda x: item_probabilities[x])\n",
    "                else:\n",
    "                    new_ls = [i for i in range(len(item_probabilities)) if item_probabilities[i] >= item_probabilities[used_indices[-1]]]\n",
    "                    next_question_index = max(new_ls, key=lambda x: item_probabilities[x])\n",
    "        else:\n",
    "            # Filter out indices with item probability greater than or equal to the previous item's probability\n",
    "            remaining_indices = [i for i in remaining_indices if item_probabilities[i] >= item_probabilities[used_indices[-1]]]\n",
    "            print(remaining_indices)\n",
    "            if remaining_indices:\n",
    "                next_question_index = min(remaining_indices, key=lambda x: item_probabilities[x])\n",
    "            else:\n",
    "                new_ls = [i for i in range(len(item_probabilities)) if item_probabilities[i] > item_probabilities[used_indices[-1]]]\n",
    "                if len(new_ls) != 0:\n",
    "                    next_question_index = min(new_ls, key=lambda x: item_probabilities[x])\n",
    "                else:\n",
    "                    new_ls = [i for i in range(len(item_probabilities)) if item_probabilities[i] <= item_probabilities[used_indices[-1]]]\n",
    "                    next_question_index = min(new_ls, key=lambda x: item_probabilities[x])\n",
    "\n",
    "        used_indices.append(next_question_index)\n",
    "        return item_bank[next_question_index], next_question_index\n",
    "\n",
    "    def update_ability_level(response, diff, disc):\n",
    "        if response == \"correct\":\n",
    "            val = ability_level[-1] + (1 * diff * disc)\n",
    "        elif response == \"incorrect\":\n",
    "            val = ability_level[-1] - (1 * diff * disc)\n",
    "        ability_level.append(val)\n",
    "        responses.append(response)\n",
    "        print(\"Student Performance: \", ability_level)\n",
    "        return ability_level\n",
    "\n",
    "    return select_question, update_ability_level"
   ]
  },
  {
   "cell_type": "code",
   "execution_count": 61,
   "metadata": {},
   "outputs": [],
   "source": [
    "select_question, update_ability_level = create_adaptive_algorithm(questions)"
   ]
  },
  {
   "cell_type": "code",
   "execution_count": 62,
   "metadata": {},
   "outputs": [
    {
     "name": "stdout",
     "output_type": "stream",
     "text": [
      "Q]  Explain the difference between a monolithic kernel and a microkernel. [0.7]\n",
      "Student Performance:  [0, 0.8]\n"
     ]
    },
    {
     "data": {
      "text/plain": [
       "[0, 0.8]"
      ]
     },
     "execution_count": 62,
     "metadata": {},
     "output_type": "execute_result"
    }
   ],
   "source": [
    "item_param = calculate_item_parameters()\n",
    "ques, idx = select_question()\n",
    "print(\"Q] \", ques)\n",
    "response = int(input())\n",
    "val = \"correct\" if response == 1 else \"incorrect\"\n",
    "update_ability_level(val, item_param[idx][0], item_param[idx][1])"
   ]
  },
  {
   "cell_type": "code",
   "execution_count": 63,
   "metadata": {},
   "outputs": [
    {
     "name": "stdout",
     "output_type": "stream",
     "text": [
      "[4, 5, 9, 10, 11, 12, 13, 14]\n",
      "Q]  Explain the concept of process synchronization and why it's important in operating systems. [0.8]\n",
      "Student Performance:  [0, 0.8, 1.6]\n",
      "[4, 5, 9, 10, 12, 13, 14]\n",
      "Q]  Discuss the role of interrupt handling in an operating system. [0.8]\n",
      "Student Performance:  [0, 0.8, 1.6, 0.8]\n",
      "[1, 2, 3, 6, 7, 8, 14]\n",
      "Q]  How does an operating system handle memory management, including techniques like paging and segmentation? [0.9]\n",
      "Student Performance:  [0, 0.8, 1.6, 0.8, 0.0]\n",
      "[1, 2, 3, 6, 7, 8]\n",
      "Q]  What is the purpose of device drivers in an operating system? [0.6]\n",
      "Student Performance:  [0, 0.8, 1.6, 0.8, 0.0, -0.6]\n",
      "[1, 2, 3, 6, 8]\n",
      "Q]  Explain the difference between a process and a thread [0.5].\n",
      "Student Performance:  [0, 0.8, 1.6, 0.8, 0.0, -0.6, -1.1]\n",
      "[2, 3, 6, 8]\n",
      "Q]  Describe the boot process of a typical operating system. [0.5]\n",
      "Student Performance:  [0, 0.8, 1.6, 0.8, 0.0, -0.6, -1.1, -1.6]\n",
      "[2, 3, 6]\n",
      "Q]  Describe the role of the kernel in an operating system. [0.4] \n",
      "Student Performance:  [0, 0.8, 1.6, 0.8, 0.0, -0.6, -1.1, -1.6, -2.0]\n",
      "[2, 6]\n",
      "Q]  How does virtual memory work in modern operating systems? [0.3]\n",
      "Student Performance:  [0, 0.8, 1.6, 0.8, 0.0, -0.6, -1.1, -1.6, -2.0, -2.3]\n",
      "[6]\n",
      "Q]  What is the purpose of an operating system [0.2]?\n",
      "Student Performance:  [0, 0.8, 1.6, 0.8, 0.0, -0.6, -1.1, -1.6, -2.0, -2.3, -2.5]\n",
      "[]\n",
      "Q]  What is the difference between multiprogramming, multiprocessing, and multitasking? [1.8]\n",
      "Student Performance:  [0, 0.8, 1.6, 0.8, 0.0, -0.6, -1.1, -1.6, -2.0, -2.3, -2.5, -0.7]\n",
      "[]\n",
      "Q]  What is the purpose of an operating system [0.2]?\n",
      "Student Performance:  [0, 0.8, 1.6, 0.8, 0.0, -0.6, -1.1, -1.6, -2.0, -2.3, -2.5, -0.7, -0.49999999999999994]\n",
      "[4, 5, 9, 10]\n",
      "Q]  How does an operating system manage file systems and disk storage? [1.0]\n",
      "Student Performance:  [0, 0.8, 1.6, 0.8, 0.0, -0.6, -1.1, -1.6, -2.0, -2.3, -2.5, -0.7, -0.49999999999999994, 0.5]\n",
      "[4, 5, 10]\n",
      "Q]  How does a deadlock occur in an operating system, and what are some techniques to prevent it [1.2]?\n",
      "Student Performance:  [0, 0.8, 1.6, 0.8, 0.0, -0.6, -1.1, -1.6, -2.0, -2.3, -2.5, -0.7, -0.49999999999999994, 0.5, -0.7]\n",
      "[]\n",
      "Q]  How does an operating system manage file systems and disk storage? [1.0]\n",
      "Student Performance:  [0, 0.8, 1.6, 0.8, 0.0, -0.6, -1.1, -1.6, -2.0, -2.3, -2.5, -0.7, -0.49999999999999994, 0.5, -0.7, -1.7]\n"
     ]
    }
   ],
   "source": [
    "for i in range(len(questions)-1):\n",
    "    ques, idx = select_question()\n",
    "    print(\"Q] \", ques)\n",
    "    response = int(input())\n",
    "    val = \"correct\" if response == 1 else \"incorrect\"\n",
    "    ls = update_ability_level(val, item_param[idx][0], item_param[idx][1])"
   ]
  },
  {
   "cell_type": "code",
   "execution_count": 64,
   "metadata": {},
   "outputs": [],
   "source": [
    "def normalized_rating(ls):\n",
    "    min_rating, max_rating = min(ls), max(ls)\n",
    "    new = []\n",
    "    for i in ls:\n",
    "        val = (((i - min_rating) * 80) / (max_rating - min_rating)) + 20\n",
    "        new.append(val)\n",
    "    return new\n"
   ]
  },
  {
   "cell_type": "code",
   "execution_count": 65,
   "metadata": {},
   "outputs": [],
   "source": [
    "student_ability = normalized_rating(ls)"
   ]
  },
  {
   "cell_type": "code",
   "execution_count": 66,
   "metadata": {},
   "outputs": [
    {
     "data": {
      "text/plain": [
       "[68.78048780487805,\n",
       " 84.39024390243902,\n",
       " 100.0,\n",
       " 84.39024390243902,\n",
       " 68.78048780487805,\n",
       " 57.07317073170732,\n",
       " 47.31707317073171,\n",
       " 37.5609756097561,\n",
       " 29.75609756097561,\n",
       " 23.902439024390247,\n",
       " 20.0,\n",
       " 55.1219512195122,\n",
       " 59.024390243902445,\n",
       " 78.53658536585365,\n",
       " 55.1219512195122,\n",
       " 35.609756097560975]"
      ]
     },
     "execution_count": 66,
     "metadata": {},
     "output_type": "execute_result"
    }
   ],
   "source": [
    "student_ability"
   ]
  }
 ],
 "metadata": {
  "kernelspec": {
   "display_name": "venv",
   "language": "python",
   "name": "python3"
  },
  "language_info": {
   "codemirror_mode": {
    "name": "ipython",
    "version": 3
   },
   "file_extension": ".py",
   "mimetype": "text/x-python",
   "name": "python",
   "nbconvert_exporter": "python",
   "pygments_lexer": "ipython3",
   "version": "3.10.9"
  }
 },
 "nbformat": 4,
 "nbformat_minor": 2
}
