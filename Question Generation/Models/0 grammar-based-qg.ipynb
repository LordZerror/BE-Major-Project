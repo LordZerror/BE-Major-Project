{
 "cells": [
  {
   "cell_type": "code",
   "execution_count": 1,
   "metadata": {},
   "outputs": [
    {
     "name": "stdout",
     "output_type": "stream",
     "text": [
      "Collecting textblob\n",
      "  Downloading textblob-0.18.0.post0-py3-none-any.whl.metadata (4.5 kB)\n",
      "Requirement already satisfied: nltk>=3.8 in ./venv/lib/python3.10/site-packages (from textblob) (3.8.1)\n",
      "Requirement already satisfied: click in ./venv/lib/python3.10/site-packages (from nltk>=3.8->textblob) (8.1.7)\n",
      "Requirement already satisfied: joblib in ./venv/lib/python3.10/site-packages (from nltk>=3.8->textblob) (1.3.2)\n",
      "Requirement already satisfied: regex>=2021.8.3 in ./venv/lib/python3.10/site-packages (from nltk>=3.8->textblob) (2023.12.25)\n",
      "Requirement already satisfied: tqdm in ./venv/lib/python3.10/site-packages (from nltk>=3.8->textblob) (4.66.1)\n",
      "Downloading textblob-0.18.0.post0-py3-none-any.whl (626 kB)\n",
      "\u001b[2K   \u001b[90m━━━━━━━━━━━━━━━━━━━━━━━━━━━━━━━━━━━━━━━━\u001b[0m \u001b[32m626.3/626.3 kB\u001b[0m \u001b[31m10.1 MB/s\u001b[0m eta \u001b[36m0:00:00\u001b[0ma \u001b[36m0:00:01\u001b[0m\n",
      "\u001b[?25hInstalling collected packages: textblob\n",
      "Successfully installed textblob-0.18.0.post0\n"
     ]
    }
   ],
   "source": [
    "! pip install textblob"
   ]
  },
  {
   "cell_type": "code",
   "execution_count": 33,
   "metadata": {},
   "outputs": [],
   "source": [
    "# import spacy\n",
    "# from nltk import pos_tag, DependencyGrammar, DependencyGraph, tree, ProjectiveDependencyParser\n",
    "\n",
    "# # Define part-of-speech (POS) tags\n",
    "# NP = \"NN\"  # Noun Phrase (e.g., \"the cat\")\n",
    "# VP = \"VB\"  # Verb Phrase (e.g., \"chased the mouse\")\n",
    "# JJ = \"JJ\"  # Adjective (e.g., \"brightly\")\n",
    "# PP = \"IN\"  # Prepositional Phrase (e.g., \"across the kitchen\")\n",
    "\n",
    "# # Define some question generation rules\n",
    "# rules = [\n",
    "#     (NP, VP, \"What is the %s of the %s?\"),\n",
    "#     (VP, PP, \"Where did the %s happen %s?\"),\n",
    "#     (JJ, NP, \"What is an example of a %s %s?\"),\n",
    "# ]\n",
    "\n",
    "# # Process a sentence and generate a question\n",
    "# def generate_question(sentence):\n",
    "#     tokens = pos_tag(sentence.split())\n",
    "#     parser = ProjectiveDependencyParser()\n",
    "#     parse_tree = parser.parse(tokens)\n",
    "#     dependencies = [(head, dep, label) for head, dep, label, *_ in parse_tree.triples()]\n",
    "#     dg = DependencyGraph(dependencies)\n",
    "    \n",
    "#     for head, dep, label in dg.edges():  # Use edges() if available\n",
    "#         for rule in rules:\n",
    "#             if head[1] == rule[0] and dep[1] == rule[1]:\n",
    "#                 # Access elements directly instead of tuple unpacking\n",
    "#                 return rule[2] % (head[0], dep[0])\n",
    "#     raise ValueError(\"Could not find edges or triples in DependencyGraph\")"
   ]
  },
  {
   "cell_type": "code",
   "execution_count": 53,
   "metadata": {},
   "outputs": [],
   "source": [
    "import spacy\n",
    "\n",
    "nlp = spacy.load(\"en_core_web_sm\")\n",
    "\n",
    "def generate_questions(text):\n",
    "    doc = nlp(text)\n",
    "    questions = []\n",
    "\n",
    "    for sentence in doc.sents:\n",
    "        # Extract named entities\n",
    "        named_entities = [ent.text for ent in sentence.ents]\n",
    "\n",
    "        # Generate questions based on named entities\n",
    "        for entity in named_entities:\n",
    "            question = f\"What is {entity}?\"\n",
    "            questions.append(question)\n",
    "    print(questions)\n",
    "    return questions"
   ]
  },
  {
   "cell_type": "code",
   "execution_count": 50,
   "metadata": {},
   "outputs": [],
   "source": [
    "text = '''Operating System lies in the category of system software. \n",
    "It basically manages all the resources of the computer. \n",
    "An operating system acts as an interface between the software and different parts of the computer or the computer hardware. \n",
    "The operating system is designed in such a way that it can manage the overall resources and operations of the computer. \n",
    "Operating System is a fully integrated set of specialized programs that handle all the operations of the computer. \n",
    "It controls and monitors the execution of all other programs that reside in the computer, which also includes application programs and other system software of the computer. \n",
    "Examples of Operating Systems are Windows, Linux, Mac OS, etc. \n",
    "An Operating System (OS) is a collection of software that manages computer hardware resources and provides common services for computer programs. \n",
    "The operating system is the most important type of system software in a computer system. \n",
    "The operating system helps in improving the computer software as well as hardware. \n",
    "Without OS, it became very difficult for any application to be user-friendly. \n",
    "The Operating System provides a user with an interface that makes any application attractive and user-friendly. \n",
    "The operating System comes with a large number of device drivers that make OS services reachable to the hardware environment. \n",
    "Each and every application present in the system requires the Operating System. \n",
    "The operating system works as a communication channel between system hardware and system software. \n",
    "The operating system helps an application with the hardware part without knowing about the actual hardware configuration. \n",
    "It is one of the most important parts of the system and hence it is present in every device, whether large or small device. \n",
    "Functions of the Operating System: Resource Management: The operating system manages and allocates memory, CPU time, and other hardware resources among the various programs and processes running on the computer. \n",
    "Process Management: The operating system is responsible for starting, stopping, and managing processes and programs. It also controls the scheduling of processes and allocates resources to them. \n",
    "Memory Management: The operating system manages the computer's primary memory and provides mechanisms for optimizing memory usage. \n",
    "Security: The operating system provides a secure environment for the user, applications, and data by implementing security policies and mechanisms such as access controls and encryption. \n",
    "Job Accounting: It keeps track of time and resources used by various jobs or users. \n",
    "File Management: The operating system is responsible for organizing and managing the file system, including the creation, deletion, and manipulation of files and directories. \n",
    "Device Management: The operating system manages input/output devices such as printers, keyboards, mice, and displays. It provides the necessary drivers and interfaces to enable communication between the devices and the computer. \n",
    "Networking: The operating system provides networking capabilities such as establishing and managing network connections, handling network protocols, and sharing resources such as printers and files over a network. \n",
    "User Interface: The operating system provides a user interface that enables users to interact with the computer system. This can be a Graphical User Interface (GUI), a Command-Line Interface (CLI), or a combination of both. \n",
    "Backup and Recovery: The operating system provides mechanisms for backing up data and recovering it in case of system failures, errors, or disasters. \n",
    "Virtualization: The operating system provides virtualization capabilities that allow multiple operating systems or applications to run on a single physical machine. This can enable efficient use of resources and flexibility in managing workloads. \n",
    "Performance Monitoring: The operating system provides tools for monitoring and optimizing system performance, including identifying bottlenecks, optimizing resource usage, and analyzing system logs and metrics. \n",
    "Time-Sharing: The operating system enables multiple users to share a computer system and its resources simultaneously by providing time-sharing mechanisms that allocate resources fairly and efficiently. \n",
    "System Calls: The operating system provides a set of system calls that enable applications to interact with the operating system and access its resources. System calls provide a standardized interface between applications and the operating system, enabling portability and compatibility across different hardware and software platforms. \n",
    "Error-detecting Aids: These contain methods that include the production of dumps, traces, error messages, and other debugging and error-detecting methods.'''"
   ]
  },
  {
   "cell_type": "code",
   "execution_count": 1,
   "metadata": {},
   "outputs": [
    {
     "ename": "NameError",
     "evalue": "name 'text' is not defined",
     "output_type": "error",
     "traceback": [
      "\u001b[0;31m---------------------------------------------------------------------------\u001b[0m",
      "\u001b[0;31mNameError\u001b[0m                                 Traceback (most recent call last)",
      "Cell \u001b[0;32mIn[1], line 1\u001b[0m\n\u001b[0;32m----> 1\u001b[0m sentences \u001b[38;5;241m=\u001b[39m \u001b[43mtext\u001b[49m\u001b[38;5;241m.\u001b[39msplit(\u001b[38;5;124m\"\u001b[39m\u001b[38;5;124m.\u001b[39m\u001b[38;5;124m\"\u001b[39m)\n\u001b[1;32m      2\u001b[0m ls \u001b[38;5;241m=\u001b[39m []\n\u001b[1;32m      3\u001b[0m \u001b[38;5;28mid\u001b[39m \u001b[38;5;241m=\u001b[39m \u001b[38;5;241m0\u001b[39m\n",
      "\u001b[0;31mNameError\u001b[0m: name 'text' is not defined"
     ]
    }
   ],
   "source": [
    "sentences = text.split(\".\")\n",
    "ls = []\n",
    "id = 0\n",
    "for sentence in sentences:\n",
    "    questions = generate_questions(sentence)\n",
    "    for question in questions:\n",
    "        print(f\"Generated question: \", question)\n",
    "        print(\"Answer: \", sentence)\n",
    "        temp = {\n",
    "            \"ID\": id,\n",
    "            \"Question\": question, \n",
    "            \"Answer\": sentence, \n",
    "        }\n",
    "        id += 1\n",
    "        ls.append(temp)\n"
   ]
  },
  {
   "cell_type": "code",
   "execution_count": 58,
   "metadata": {},
   "outputs": [
    {
     "name": "stdout",
     "output_type": "stream",
     "text": [
      "[{'ID': 0, 'Question': 'What is Windows?', 'Answer': ' \\nExamples of Operating Systems are Windows, Linux, Mac OS, etc'}, {'ID': 1, 'Question': 'What is Linux?', 'Answer': ' \\nExamples of Operating Systems are Windows, Linux, Mac OS, etc'}, {'ID': 2, 'Question': 'What is Mac OS?', 'Answer': ' \\nExamples of Operating Systems are Windows, Linux, Mac OS, etc'}, {'ID': 0, 'Question': 'What is The Operating System?', 'Answer': ' \\nThe Operating System provides a user with an interface that makes any application attractive and user-friendly'}, {'ID': 0, 'Question': 'What is CPU?', 'Answer': ' \\nFunctions of the Operating System: Resource Management: The operating system manages and allocates memory, CPU time, and other hardware resources among the various programs and processes running on the computer'}, {'ID': 0, 'Question': 'What is Graphical User Interface?', 'Answer': ' This can be a Graphical User Interface (GUI), a Command-Line Interface (CLI), or a combination of both'}, {'ID': 1, 'Question': 'What is GUI?', 'Answer': ' This can be a Graphical User Interface (GUI), a Command-Line Interface (CLI), or a combination of both'}, {'ID': 2, 'Question': 'What is Command-Line Interface?', 'Answer': ' This can be a Graphical User Interface (GUI), a Command-Line Interface (CLI), or a combination of both'}, {'ID': 3, 'Question': 'What is CLI?', 'Answer': ' This can be a Graphical User Interface (GUI), a Command-Line Interface (CLI), or a combination of both'}, {'ID': 0, 'Question': 'What is Backup and Recovery:?', 'Answer': ' \\nBackup and Recovery: The operating system provides mechanisms for backing up data and recovering it in case of system failures, errors, or disasters'}, {'ID': 0, 'Question': 'What is Performance Monitoring: The operating?', 'Answer': ' \\nPerformance Monitoring: The operating system provides tools for monitoring and optimizing system performance, including identifying bottlenecks, optimizing resource usage, and analyzing system logs and metrics'}]\n"
     ]
    }
   ],
   "source": [
    "print(ls)"
   ]
  },
  {
   "cell_type": "code",
   "execution_count": 60,
   "metadata": {},
   "outputs": [],
   "source": [
    "import json\n",
    "with open('result-0.0.json', 'w') as fp:\n",
    "    json.dump(ls, fp)"
   ]
  },
  {
   "cell_type": "code",
   "execution_count": null,
   "metadata": {},
   "outputs": [],
   "source": []
  }
 ],
 "metadata": {
  "kernelspec": {
   "display_name": "venv",
   "language": "python",
   "name": "python3"
  },
  "language_info": {
   "codemirror_mode": {
    "name": "ipython",
    "version": 3
   },
   "file_extension": ".py",
   "mimetype": "text/x-python",
   "name": "python",
   "nbconvert_exporter": "python",
   "pygments_lexer": "ipython3",
   "version": "3.10.9"
  }
 },
 "nbformat": 4,
 "nbformat_minor": 2
}
