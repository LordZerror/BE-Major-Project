{
 "cells": [
  {
   "cell_type": "markdown",
   "metadata": {},
   "source": [
    "## Importing the libraries"
   ]
  },
  {
   "cell_type": "code",
   "execution_count": 1,
   "metadata": {},
   "outputs": [
    {
     "name": "stderr",
     "output_type": "stream",
     "text": [
      "/Users/kaushalpatil/Development/Question Generation Paper/venv/lib/python3.10/site-packages/tqdm/auto.py:21: TqdmWarning: IProgress not found. Please update jupyter and ipywidgets. See https://ipywidgets.readthedocs.io/en/stable/user_install.html\n",
      "  from .autonotebook import tqdm as notebook_tqdm\n"
     ]
    },
    {
     "data": {
      "text/plain": [
       "True"
      ]
     },
     "execution_count": 1,
     "metadata": {},
     "output_type": "execute_result"
    }
   ],
   "source": [
    "import pathlib\n",
    "import textwrap\n",
    "\n",
    "import google.generativeai as genai\n",
    "import os\n",
    "from IPython.display import display\n",
    "from IPython.display import Markdown\n",
    "from dotenv import load_dotenv\n",
    "\n",
    "\n",
    "def to_markdown(text):\n",
    "    text = text.replace('•', '  *')\n",
    "    return Markdown(textwrap.indent(text, '> ', predicate=lambda _: True))\n",
    "\n",
    "load_dotenv()"
   ]
  },
  {
   "cell_type": "markdown",
   "metadata": {},
   "source": [
    "## Model Instantiation"
   ]
  },
  {
   "cell_type": "code",
   "execution_count": 2,
   "metadata": {},
   "outputs": [],
   "source": [
    "GOOGLE_API_KEY=os.getenv('GOOGLE_API_KEY')\n",
    "\n",
    "genai.configure(api_key=GOOGLE_API_KEY)"
   ]
  },
  {
   "cell_type": "code",
   "execution_count": 3,
   "metadata": {},
   "outputs": [],
   "source": [
    "model = genai.GenerativeModel('gemini-pro')"
   ]
  },
  {
   "cell_type": "markdown",
   "metadata": {},
   "source": [
    "## Question Generation \n",
    "\n"
   ]
  },
  {
   "cell_type": "code",
   "execution_count": 4,
   "metadata": {},
   "outputs": [],
   "source": [
    "text = '''Operating System lies in the category of system software. \n",
    "It basically manages all the resources of the computer. \n",
    "An operating system acts as an interface between the software and different parts of the computer or the computer hardware. \n",
    "The operating system is designed in such a way that it can manage the overall resources and operations of the computer. \n",
    "Operating System is a fully integrated set of specialized programs that handle all the operations of the computer. \n",
    "It controls and monitors the execution of all other programs that reside in the computer, which also includes application programs and other system software of the computer. \n",
    "Examples of Operating Systems are Windows, Linux, Mac OS, etc. \n",
    "An Operating System (OS) is a collection of software that manages computer hardware resources and provides common services for computer programs. \n",
    "The operating system is the most important type of system software in a computer system. \n",
    "The operating system helps in improving the computer software as well as hardware. \n",
    "Without OS, it became very difficult for any application to be user-friendly. \n",
    "The Operating System provides a user with an interface that makes any application attractive and user-friendly. \n",
    "The operating System comes with a large number of device drivers that make OS services reachable to the hardware environment. \n",
    "Each and every application present in the system requires the Operating System. \n",
    "The operating system works as a communication channel between system hardware and system software. \n",
    "The operating system helps an application with the hardware part without knowing about the actual hardware configuration. \n",
    "It is one of the most important parts of the system and hence it is present in every device, whether large or small device. \n",
    "Functions of the Operating System: Resource Management: The operating system manages and allocates memory, CPU time, and other hardware resources among the various programs and processes running on the computer. \n",
    "Process Management: The operating system is responsible for starting, stopping, and managing processes and programs. It also controls the scheduling of processes and allocates resources to them. \n",
    "Memory Management: The operating system manages the computer's primary memory and provides mechanisms for optimizing memory usage. \n",
    "Security: The operating system provides a secure environment for the user, applications, and data by implementing security policies and mechanisms such as access controls and encryption. \n",
    "Job Accounting: It keeps track of time and resources used by various jobs or users. \n",
    "File Management: The operating system is responsible for organizing and managing the file system, including the creation, deletion, and manipulation of files and directories. \n",
    "Device Management: The operating system manages input/output devices such as printers, keyboards, mice, and displays. It provides the necessary drivers and interfaces to enable communication between the devices and the computer. \n",
    "Networking: The operating system provides networking capabilities such as establishing and managing network connections, handling network protocols, and sharing resources such as printers and files over a network. \n",
    "User Interface: The operating system provides a user interface that enables users to interact with the computer system. This can be a Graphical User Interface (GUI), a Command-Line Interface (CLI), or a combination of both. \n",
    "Backup and Recovery: The operating system provides mechanisms for backing up data and recovering it in case of system failures, errors, or disasters. \n",
    "Virtualization: The operating system provides virtualization capabilities that allow multiple operating systems or applications to run on a single physical machine. This can enable efficient use of resources and flexibility in managing workloads. \n",
    "Performance Monitoring: The operating system provides tools for monitoring and optimizing system performance, including identifying bottlenecks, optimizing resource usage, and analyzing system logs and metrics. \n",
    "Time-Sharing: The operating system enables multiple users to share a computer system and its resources simultaneously by providing time-sharing mechanisms that allocate resources fairly and efficiently. \n",
    "System Calls: The operating system provides a set of system calls that enable applications to interact with the operating system and access its resources. System calls provide a standardized interface between applications and the operating system, enabling portability and compatibility across different hardware and software platforms. \n",
    "Error-detecting Aids: These contain methods that include the production of dumps, traces, error messages, and other debugging and error-detecting methods.'''"
   ]
  },
  {
   "cell_type": "code",
   "execution_count": 11,
   "metadata": {},
   "outputs": [],
   "source": [
    "\n",
    "prompt = '''\n",
    "You are an university-level undergraduate professor of Operating System and want to set a question paper of varying difficulty which should have answers in a single-word or single-phrase based on the following context\n",
    "\n",
    "Context: Operating System lies in the category of system software. \n",
    "It basically manages all the resources of the computer. \n",
    "An operating system acts as an interface between the software and different parts of the computer or the computer hardware. \n",
    "The operating system is designed in such a way that it can manage the overall resources and operations of the computer. \n",
    "Operating System is a fully integrated set of specialized programs that handle all the operations of the computer. \n",
    "It controls and monitors the execution of all other programs that reside in the computer, which also includes application programs and other system software of the computer. \n",
    "Examples of Operating Systems are Windows, Linux, Mac OS, etc. \n",
    "An Operating System (OS) is a collection of software that manages computer hardware resources and provides common services for computer programs. \n",
    "The operating system is the most important type of system software in a computer system. \n",
    "The operating system helps in improving the computer software as well as hardware. \n",
    "Without OS, it became very difficult for any application to be user-friendly. \n",
    "The Operating System provides a user with an interface that makes any application attractive and user-friendly. \n",
    "The operating System comes with a large number of device drivers that make OS services reachable to the hardware environment. \n",
    "Each and every application present in the system requires the Operating System. \n",
    "The operating system works as a communication channel between system hardware and system software. \n",
    "The operating system helps an application with the hardware part without knowing about the actual hardware configuration. \n",
    "It is one of the most important parts of the system and hence it is present in every device, whether large or small device. \n",
    "Functions of the Operating System: Resource Management: The operating system manages and allocates memory, CPU time, and other hardware resources among the various programs and processes running on the computer. \n",
    "Process Management: The operating system is responsible for starting, stopping, and managing processes and programs. It also controls the scheduling of processes and allocates resources to them. \n",
    "Memory Management: The operating system manages the computer's primary memory and provides mechanisms for optimizing memory usage. \n",
    "Security: The operating system provides a secure environment for the user, applications, and data by implementing security policies and mechanisms such as access controls and encryption. \n",
    "Job Accounting: It keeps track of time and resources used by various jobs or users. \n",
    "File Management: The operating system is responsible for organizing and managing the file system, including the creation, deletion, and manipulation of files and directories. \n",
    "Device Management: The operating system manages input/output devices such as printers, keyboards, mice, and displays. It provides the necessary drivers and interfaces to enable communication between the devices and the computer. \n",
    "Networking: The operating system provides networking capabilities such as establishing and managing network connections, handling network protocols, and sharing resources such as printers and files over a network. \n",
    "User Interface: The operating system provides a user interface that enables users to interact with the computer system. This can be a Graphical User Interface (GUI), a Command-Line Interface (CLI), or a combination of both. \n",
    "Backup and Recovery: The operating system provides mechanisms for backing up data and recovering it in case of system failures, errors, or disasters. \n",
    "Virtualization: The operating system provides virtualization capabilities that allow multiple operating systems or applications to run on a single physical machine. This can enable efficient use of resources and flexibility in managing workloads. \n",
    "Performance Monitoring: The operating system provides tools for monitoring and optimizing system performance, including identifying bottlenecks, optimizing resource usage, and analyzing system logs and metrics. \n",
    "Time-Sharing: The operating system enables multiple users to share a computer system and its resources simultaneously by providing time-sharing mechanisms that allocate resources fairly and efficiently. \n",
    "System Calls: The operating system provides a set of system calls that enable applications to interact with the operating system and access its resources. System calls provide a standardized interface between applications and the operating system, enabling portability and compatibility across different hardware and software platforms. \n",
    "Error-detecting Aids: These contain methods that include the production of dumps, traces, error messages, and other debugging and error-detecting methods.\n",
    "\n",
    "Try to follow the Bloom's Taxonomy level of analyzing and applying when forming the question\n",
    "\n",
    "Follow this metric for assigning difficulty to the question:\n",
    "Easy - 0.00 to 0.99\n",
    "Medium - 1.00 to 1.99\n",
    "Difficult - 2.00 to 3.00\n",
    "\n",
    "Example of difficult question:\n",
    "Question: Imagine you're a system administrator tasked with optimizing disk performance. You suspect fragmentation is an issue. Which scheduling algorithm, based on its properties, would be LEAST effective in reducing fragmentation?\n",
    "Answer: FCFS\n",
    "\n",
    "You must follow the following JSON output format:\n",
    "[ questions: \n",
    "{\n",
    "id: <Unique id>,\n",
    "question: <question>,\n",
    "difficulty: <difficulty>.\n",
    "answer: <answer>,\n",
    "} ...\n",
    "]\n",
    "'''\n",
    "\n",
    "\n",
    "response = model.generate_content(prompt)"
   ]
  },
  {
   "cell_type": "code",
   "execution_count": 10,
   "metadata": {},
   "outputs": [],
   "source": [
    "import json \n",
    "\n",
    "with open('result-5-gemini-prompt-qg-2.json', 'w') as fp:\n",
    "    json.dump(response.text, fp)"
   ]
  },
  {
   "cell_type": "code",
   "execution_count": null,
   "metadata": {},
   "outputs": [],
   "source": []
  }
 ],
 "metadata": {
  "kernelspec": {
   "display_name": "venv",
   "language": "python",
   "name": "python3"
  },
  "language_info": {
   "codemirror_mode": {
    "name": "ipython",
    "version": 3
   },
   "file_extension": ".py",
   "mimetype": "text/x-python",
   "name": "python",
   "nbconvert_exporter": "python",
   "pygments_lexer": "ipython3",
   "version": "3.10.9"
  }
 },
 "nbformat": 4,
 "nbformat_minor": 2
}
